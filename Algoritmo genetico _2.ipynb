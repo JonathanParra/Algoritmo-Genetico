{
 "cells": [
  {
   "cell_type": "markdown",
   "id": "4094e347",
   "metadata": {},
   "source": [
    "#### Función objetivo y operadores genético"
   ]
  },
  {
   "cell_type": "markdown",
   "id": "bd8b6d8a",
   "metadata": {},
   "source": [
    "Continuamos con los pasos que debemos realizar para codificar nuestro algoritmo genetico. En esta sección, trataremos\n",
    "el registro de la función objetivo y de los operadores genéticos en el objeto $toolbox$. El siguiente $script$ muestra el código que se describirá paso a paso en esta sección: "
   ]
  },
  {
   "cell_type": "code",
   "execution_count": 5,
   "id": "f5d458a4",
   "metadata": {},
   "outputs": [],
   "source": [
    "from deap import tools\n",
    "from deap import base\n",
    "\n",
    "toolbox = base.Toolbox()\n",
    "\n",
    "def funcion_objetivo(x):\n",
    "    \"\"\"\n",
    "    Función objetivo de nuestro problema.\n",
    "    \"\"\"\n",
    "    for i in range(len(x)):\n",
    "        if x[i] > 100 or x[i] < -100:\n",
    "            return -1\n",
    "    res = math.sqrt(x[0]**2 + x[1]**2)\n",
    "    return res\n",
    "\n",
    "toolbox.register(\"evaluate\", funcion_objetivo)\n",
    "toolbox.register(\"mate\", tools.cxOnePoint)\n",
    "toolbox.register(\"mutate\", tools.mutGaussian, mu=0, sigma=5, indpb=0.1)\n",
    "toolbox.register(\"select\", tools.selTournament, tournsize=3)"
   ]
  },
  {
   "cell_type": "markdown",
   "id": "8d8eb445",
   "metadata": {},
   "source": [
    "##### Función objetivo\n",
    "\n",
    "La función objetivo de un algoritmo genético es, sin duda, la parte más particular del problema de optimización."
   ]
  },
  {
   "cell_type": "code",
   "execution_count": null,
   "id": "e4be8f59",
   "metadata": {},
   "outputs": [],
   "source": []
  },
  {
   "cell_type": "code",
   "execution_count": null,
   "id": "ce0c7391",
   "metadata": {},
   "outputs": [],
   "source": []
  },
  {
   "cell_type": "code",
   "execution_count": null,
   "id": "185331ae",
   "metadata": {},
   "outputs": [],
   "source": []
  },
  {
   "cell_type": "code",
   "execution_count": null,
   "id": "fba3e252",
   "metadata": {},
   "outputs": [],
   "source": []
  },
  {
   "cell_type": "code",
   "execution_count": null,
   "id": "dba0cb53",
   "metadata": {},
   "outputs": [],
   "source": []
  }
 ],
 "metadata": {
  "kernelspec": {
   "display_name": "Python 3 (ipykernel)",
   "language": "python",
   "name": "python3"
  },
  "language_info": {
   "codemirror_mode": {
    "name": "ipython",
    "version": 3
   },
   "file_extension": ".py",
   "mimetype": "text/x-python",
   "name": "python",
   "nbconvert_exporter": "python",
   "pygments_lexer": "ipython3",
   "version": "3.9.12"
  }
 },
 "nbformat": 4,
 "nbformat_minor": 5
}
